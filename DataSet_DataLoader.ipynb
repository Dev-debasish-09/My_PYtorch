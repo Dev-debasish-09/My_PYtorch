{
  "nbformat": 4,
  "nbformat_minor": 0,
  "metadata": {
    "colab": {
      "provenance": [],
      "authorship_tag": "ABX9TyPAOztKtdcNh79GQkiPAA6W",
      "include_colab_link": true
    },
    "kernelspec": {
      "name": "python3",
      "display_name": "Python 3"
    },
    "language_info": {
      "name": "python"
    }
  },
  "cells": [
    {
      "cell_type": "markdown",
      "metadata": {
        "id": "view-in-github",
        "colab_type": "text"
      },
      "source": [
        "<a href=\"https://colab.research.google.com/github/Dev-debasish-09/My_PYtorch/blob/main/DataSet_DataLoader.ipynb\" target=\"_parent\"><img src=\"https://colab.research.google.com/assets/colab-badge.svg\" alt=\"Open In Colab\"/></a>"
      ]
    },
    {
      "cell_type": "code",
      "execution_count": 1,
      "metadata": {
        "id": "G4CN-0p4bhJI"
      },
      "outputs": [],
      "source": [
        "from sklearn.datasets import make_classification\n",
        "import torch"
      ]
    },
    {
      "cell_type": "code",
      "source": [
        "#forming data\n",
        "x,y = make_classification(\n",
        "    n_samples = 10,\n",
        "    n_features=2,\n",
        "    n_informative=2,\n",
        "    n_redundant=0,\n",
        "    n_classes=2,\n",
        "    random_state=42\n",
        ")"
      ],
      "metadata": {
        "id": "boMXAsWomg2Q"
      },
      "execution_count": 2,
      "outputs": []
    },
    {
      "cell_type": "code",
      "source": [
        "x = torch.tensor(x,dtype=torch.float32)\n",
        "y = torch.tensor(y,dtype=torch.long)"
      ],
      "metadata": {
        "id": "BIlfbWxWmg5x"
      },
      "execution_count": 5,
      "outputs": []
    },
    {
      "cell_type": "code",
      "source": [
        "from torch.utils.data import Dataset,DataLoader"
      ],
      "metadata": {
        "id": "GnAx3-mdmg7i"
      },
      "execution_count": 6,
      "outputs": []
    },
    {
      "cell_type": "code",
      "source": [
        "class CustomDataset(Dataset):\n",
        "  def __init__(self,features,labels):\n",
        "    self.features = features\n",
        "    self.labels = labels\n",
        "\n",
        "  def __len__(self):\n",
        "    return self.features.shape[0]\n",
        "\n",
        "  def __getitem__(self, index):\n",
        "    # Here yOu can apply any transformation You want (Agumentation,grayscale,limitization,and many More)\n",
        "    return self.features[index],self.labels[index]"
      ],
      "metadata": {
        "id": "sWn30zpJnX4D"
      },
      "execution_count": 14,
      "outputs": []
    },
    {
      "cell_type": "code",
      "source": [
        "dataset = CustomDataset(x,y)"
      ],
      "metadata": {
        "id": "L6GnLy20nLmK"
      },
      "execution_count": 15,
      "outputs": []
    },
    {
      "cell_type": "code",
      "source": [
        "len(dataset)"
      ],
      "metadata": {
        "colab": {
          "base_uri": "https://localhost:8080/"
        },
        "id": "vRz7JJhKnLkM",
        "outputId": "59922939-48c2-4b2e-cb11-c89a3cfc522c"
      },
      "execution_count": 16,
      "outputs": [
        {
          "output_type": "execute_result",
          "data": {
            "text/plain": [
              "10"
            ]
          },
          "metadata": {},
          "execution_count": 16
        }
      ]
    },
    {
      "cell_type": "code",
      "source": [
        "dataset[2]"
      ],
      "metadata": {
        "colab": {
          "base_uri": "https://localhost:8080/"
        },
        "id": "LxYZVZD9nLiT",
        "outputId": "07bcb304-745a-422a-8ffc-1ef5bb18c0c6"
      },
      "execution_count": 17,
      "outputs": [
        {
          "output_type": "execute_result",
          "data": {
            "text/plain": [
              "(tensor([-2.8954,  1.9769]), tensor(0))"
            ]
          },
          "metadata": {},
          "execution_count": 17
        }
      ]
    },
    {
      "cell_type": "code",
      "source": [
        "dataloader = DataLoader(dataset,batch_size=2,shuffle=True)"
      ],
      "metadata": {
        "id": "-Zi-yIADnLgg"
      },
      "execution_count": 18,
      "outputs": []
    },
    {
      "cell_type": "code",
      "source": [
        "for batch_features,batch_labels in dataloader:\n",
        "  print(batch_features)\n",
        "  print(batch_labels)\n",
        "  print('.'*50)"
      ],
      "metadata": {
        "colab": {
          "base_uri": "https://localhost:8080/"
        },
        "id": "rTDCdjclmg9e",
        "outputId": "4b226d11-1679-4ca0-bbbc-fc22a52a4ddc"
      },
      "execution_count": 19,
      "outputs": [
        {
          "output_type": "stream",
          "name": "stdout",
          "text": [
            "tensor([[-0.9382, -0.5430],\n",
            "        [-0.5872, -1.9717]])\n",
            "tensor([1, 0])\n",
            "..................................................\n",
            "tensor([[-1.9629, -0.9923],\n",
            "        [ 1.7774,  1.5116]])\n",
            "tensor([0, 1])\n",
            "..................................................\n",
            "tensor([[ 1.0683, -0.9701],\n",
            "        [-2.8954,  1.9769]])\n",
            "tensor([1, 0])\n",
            "..................................................\n",
            "tensor([[-1.1402, -0.8388],\n",
            "        [ 1.7273, -1.1858]])\n",
            "tensor([0, 1])\n",
            "..................................................\n",
            "tensor([[-0.7206, -0.9606],\n",
            "        [ 1.8997,  0.8344]])\n",
            "tensor([0, 1])\n",
            "..................................................\n"
          ]
        }
      ]
    },
    {
      "cell_type": "code",
      "source": [],
      "metadata": {
        "id": "6k-xIyIsmhAm"
      },
      "execution_count": null,
      "outputs": []
    }
  ]
}